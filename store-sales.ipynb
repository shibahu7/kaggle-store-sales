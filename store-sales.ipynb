{
 "cells": [
  {
   "cell_type": "markdown",
   "id": "c3eb41ed",
   "metadata": {},
   "source": [
    "めも\n",
    "\n",
    "- 全部のデータをくっつける\n",
    "- arモデルに突っ込む\n",
    "- mlflowを使用する\n",
    "- bootstrap信頼区間を調べる"
   ]
  },
  {
   "cell_type": "code",
   "execution_count": null,
   "id": "e06c1270",
   "metadata": {},
   "outputs": [],
   "source": [
    "import sys\n",
    "sys.version"
   ]
  },
  {
   "cell_type": "code",
   "execution_count": null,
   "id": "b0000f75",
   "metadata": {},
   "outputs": [],
   "source": [
    "import pandas as pd\n",
    "import numpy as np\n",
    "import matplotlib.pyplot as plt\n",
    "import matplotlib as mpl\n",
    "import seaborn as sns \n",
    "import statsmodels.tsa.api as ts\n",
    "from statsmodels.graphics.tsaplots import plot_acf, plot_pacf"
   ]
  },
  {
   "cell_type": "markdown",
   "id": "79c35bb5",
   "metadata": {},
   "source": [
    "# 評価\n",
    "$$\n",
    "RMSLE = \\sqrt{ \\frac{1}{n} \\sum_{i=1}^n \\left(\\log (1 + \\hat{y}_i) - \\log (1 + y_i)\\right)^2}\n",
    "$$"
   ]
  },
  {
   "cell_type": "markdown",
   "id": "58283a40",
   "metadata": {},
   "source": [
    "# データの確認\n",
    "\n",
    "- エクアドルは石油依存国なので、石油価格に経済が影響されやすい\n",
    "- 公務員の給料は15日と月末に支払われる\n",
    "- 2016年4月16日にマグニチュード 7.8 の地震がエクアドルを襲う\n",
    "\n",
    "- 休日について（翻訳ﾏﾏ）\n",
    "    - 休日とイベント、メタデータ付き\n",
    "    - 注:転送された列に特に注意してください。正式に移管された祝日は、その暦日に該当しますが、政府によって別の日付に移動されました。振替日は、休日というより通常の日に近いものです。実際に祝われた日を見つけるには、タイプが Transfer である対応する行を探します。たとえば、祝日の Independencia de Guayaquil は 2012-10-09 から 2012-10-12 に変更されました。つまり、2012-10-12 に祝われました。ブリッジ タイプの日は、休日に追加される余分な日です (たとえば、長い週末に休憩を延長するため)。これらは、Bridge の返済を目的とした、通常は予定されていない勤務日 (例: 土曜日) である Work Day のタイプによって構成されていることがよくあります。\n",
    "    - 追加の休日とは、通常のカレンダーの休日に追加される日です。たとえば、通常はクリスマスの前後に発生します (クリスマス イブを休日にします)。\n",
    "    \n",
    "- 単語の共有\n",
    "    - store_nbr→店舗ID\n",
    "    - family→製品カテゴリ"
   ]
  },
  {
   "cell_type": "markdown",
   "id": "aebe4520",
   "metadata": {},
   "source": [
    "## 要約\n",
    "\n",
    "- 欠損値なし\n",
    "- 2013/01/01 ～ 2017/08/15までが学習データで、2017/08/16 ～ 2017/08/31 までを予測\n",
    "- 店舗は全部で54店舗あり、それぞれの店舗は33の製品カテゴリを持っている"
   ]
  },
  {
   "cell_type": "markdown",
   "id": "f1c651a1",
   "metadata": {},
   "source": [
    "## データの読み込み"
   ]
  },
  {
   "cell_type": "code",
   "execution_count": null,
   "id": "cc15b759",
   "metadata": {
    "hide_input": false
   },
   "outputs": [],
   "source": [
    "train = pd.read_csv(\"data/train.csv\", parse_dates=[\"date\"])\n",
    "test = pd.read_csv(\"data/test.csv\", parse_dates=[\"date\"])\n",
    "holidays_events = pd.read_csv(\"data/holidays_events.csv\", parse_dates=[\"date\"])\n",
    "oil = pd.read_csv(\"data/oil.csv\", parse_dates=[\"date\"])\n",
    "store = pd.read_csv(\"data/stores.csv\")\n",
    "transactions = pd.read_csv(\"data/transactions.csv\", parse_dates=[\"date\"])\n",
    "\n",
    "train[\"is_train\"] = True\n",
    "test[\"is_train\"] = False\n",
    "\n",
    "df = pd.concat([train, test], ignore_index=True, axis=0)"
   ]
  },
  {
   "cell_type": "markdown",
   "id": "67a20bc0",
   "metadata": {},
   "source": [
    "- 2013/01/01 ～ 2017/08/15までが学習データ"
   ]
  },
  {
   "cell_type": "code",
   "execution_count": null,
   "id": "f6dd491a",
   "metadata": {},
   "outputs": [],
   "source": [
    "train[\"date\"].unique()"
   ]
  },
  {
   "cell_type": "markdown",
   "id": "ecfe6d78",
   "metadata": {},
   "source": [
    "- 2017/08/16 ～ 2017/08/31 までを予測\n",
    "- 単純なarだと無理そう"
   ]
  },
  {
   "cell_type": "code",
   "execution_count": null,
   "id": "1fbb8266",
   "metadata": {},
   "outputs": [],
   "source": [
    "test[\"date\"].unique()"
   ]
  },
  {
   "cell_type": "markdown",
   "id": "467fb850",
   "metadata": {},
   "source": [
    "- 店舗は全部で54\n",
    "- 店舗全体の売上の25%が0である\n",
    "- 製品カテゴリは全部で33ある"
   ]
  },
  {
   "cell_type": "code",
   "execution_count": null,
   "id": "f90356ca",
   "metadata": {},
   "outputs": [],
   "source": [
    "train.shape, test.shape, df[\"store_nbr\"].unique().shape"
   ]
  },
  {
   "cell_type": "markdown",
   "id": "f6880525",
   "metadata": {},
   "source": [
    "### 学習データ"
   ]
  },
  {
   "cell_type": "code",
   "execution_count": null,
   "id": "79a0226c",
   "metadata": {},
   "outputs": [],
   "source": [
    "train.head()"
   ]
  },
  {
   "cell_type": "code",
   "execution_count": null,
   "id": "efaa9752",
   "metadata": {},
   "outputs": [],
   "source": [
    "train.describe()"
   ]
  },
  {
   "cell_type": "code",
   "execution_count": null,
   "id": "f0366cd9",
   "metadata": {},
   "outputs": [],
   "source": [
    "train.groupby(\"family\").size()"
   ]
  },
  {
   "cell_type": "markdown",
   "id": "71c48807",
   "metadata": {},
   "source": [
    "### テストデータ"
   ]
  },
  {
   "cell_type": "code",
   "execution_count": null,
   "id": "e54b0f38",
   "metadata": {},
   "outputs": [],
   "source": [
    "test.head()"
   ]
  },
  {
   "cell_type": "code",
   "execution_count": null,
   "id": "3a353312",
   "metadata": {},
   "outputs": [],
   "source": [
    "test.describe()"
   ]
  },
  {
   "cell_type": "code",
   "execution_count": null,
   "id": "dc5a712f",
   "metadata": {},
   "outputs": [],
   "source": [
    "test.groupby(\"family\").size()"
   ]
  },
  {
   "cell_type": "markdown",
   "id": "76b3827b",
   "metadata": {},
   "source": [
    "### メタデータ"
   ]
  },
  {
   "cell_type": "code",
   "execution_count": null,
   "id": "4a55a3e8",
   "metadata": {},
   "outputs": [],
   "source": [
    "holidays_events.head()"
   ]
  },
  {
   "cell_type": "code",
   "execution_count": null,
   "id": "809f4a3b",
   "metadata": {},
   "outputs": [],
   "source": [
    "oil.head()"
   ]
  },
  {
   "cell_type": "code",
   "execution_count": null,
   "id": "54b00fab",
   "metadata": {},
   "outputs": [],
   "source": [
    "store.head()"
   ]
  },
  {
   "cell_type": "code",
   "execution_count": null,
   "id": "0c5bf0b9",
   "metadata": {},
   "outputs": [],
   "source": [
    "store.groupby(\"city\").size()"
   ]
  },
  {
   "cell_type": "code",
   "execution_count": null,
   "id": "a4331a3c",
   "metadata": {},
   "outputs": [],
   "source": [
    "store.groupby(\"state\").size()"
   ]
  },
  {
   "cell_type": "code",
   "execution_count": null,
   "id": "f7139b19",
   "metadata": {},
   "outputs": [],
   "source": [
    "store.groupby(\"type\").size()"
   ]
  },
  {
   "cell_type": "code",
   "execution_count": null,
   "id": "a3a2537c",
   "metadata": {},
   "outputs": [],
   "source": [
    "store.groupby(\"cluster\").size()"
   ]
  },
  {
   "cell_type": "code",
   "execution_count": null,
   "id": "2ce2d2d5",
   "metadata": {},
   "outputs": [],
   "source": [
    "transactions.head()"
   ]
  },
  {
   "cell_type": "markdown",
   "id": "5e66314f",
   "metadata": {},
   "source": [
    "## 欠損値チェック\n",
    "\n",
    "- 欠損なし"
   ]
  },
  {
   "cell_type": "code",
   "execution_count": null,
   "id": "bb04bae1",
   "metadata": {},
   "outputs": [],
   "source": [
    "train.isnull().sum().sort_values(ascending=False)"
   ]
  },
  {
   "cell_type": "code",
   "execution_count": null,
   "id": "1f97fc0e",
   "metadata": {},
   "outputs": [],
   "source": [
    "test.isnull().sum().sort_values(ascending=False)"
   ]
  },
  {
   "cell_type": "markdown",
   "id": "726a71b2",
   "metadata": {},
   "source": [
    "## 可視化"
   ]
  },
  {
   "cell_type": "markdown",
   "id": "ef305dba",
   "metadata": {},
   "source": [
    "### オイル価格について\n",
    "\n",
    "- 2015年ごろに大幅に原油価格が下落\n",
    "- （1バレル当たり）2014年6月20日：107・95ドル → 2015年12月28日：36・36ドル。実に66％の下落\n",
    "- 原因はアメリカのシューオイルを輸出するための法改正が行われたため　[詳しく](https://diamond.jp/articles/-/88442)"
   ]
  },
  {
   "cell_type": "code",
   "execution_count": null,
   "id": "df19a336",
   "metadata": {},
   "outputs": [],
   "source": [
    "sns.lineplot(\n",
    "    x=\"date\",\n",
    "    y=\"dcoilwtico\",\n",
    "    data=oil,\n",
    ")\n",
    "plt.title(\"oil price\")"
   ]
  },
  {
   "cell_type": "markdown",
   "id": "90919c08",
   "metadata": {},
   "source": [
    "- "
   ]
  },
  {
   "cell_type": "markdown",
   "id": "4accfc14",
   "metadata": {},
   "source": [
    "- 偏自己相関\n",
    "    - 偏自己相関はラグ2以降は有意な値になっていないため、ARモデルで表すとAR(1)がよさそう\n",
    "- 自己相関\n",
    "    - 自己相関は減衰傾向にあるためARモデルとMAモデルを比べるとARモデルのほうがよく表せそう\n",
    "\n",
    "Box–Jenkins method"
   ]
  },
  {
   "cell_type": "code",
   "execution_count": null,
   "id": "705297d9",
   "metadata": {},
   "outputs": [],
   "source": [
    "plot_pacf(oil[\"dcoilwtico\"].dropna(), method=\"ywm\");"
   ]
  },
  {
   "cell_type": "code",
   "execution_count": null,
   "id": "637dba97",
   "metadata": {},
   "outputs": [],
   "source": [
    "plot_acf(oil[\"dcoilwtico\"], missing=\"drop\");"
   ]
  },
  {
   "cell_type": "markdown",
   "id": "18cb55ed",
   "metadata": {},
   "source": [
    "### 製品カテゴリの売上について\n",
    "\n",
    "- 売上が0の製品カテゴリが存在している"
   ]
  },
  {
   "cell_type": "code",
   "execution_count": null,
   "id": "96826af2",
   "metadata": {},
   "outputs": [],
   "source": [
    "fig, axes = plt.subplots(len(familys), 1, figsize=(20, 100))\n",
    "for i, family in enumerate(familys):\n",
    "    df = train.query(\"store_nbr==1\").query(\"family=='{}'\".format(family))\n",
    "    axes[i].plot(df[\"date\"], df[\"sales\"])\n",
    "    axes[i].set_title(family)"
   ]
  },
  {
   "cell_type": "markdown",
   "id": "7133fa0d",
   "metadata": {},
   "source": [
    "- 同一クラスターの店舗の売上を見てみる\n",
    "    - store_nbr=1はクラスター13に属している\n",
    "    - クラスター13に属しているstore_nbr={1, 2, 6, 53}\n",
    "- おおむね同じような概形をしているので、クラスター毎に学習させるのがいいかもしれない"
   ]
  },
  {
   "cell_type": "code",
   "execution_count": null,
   "id": "8ee84033",
   "metadata": {},
   "outputs": [],
   "source": [
    "familys = train[\"family\"].unique()\n",
    "fig, axes = plt.subplots(len(familys), 2, figsize=(20, 120))\n",
    "for j, id in enumerate([1, 2]):\n",
    "    for i, family in enumerate(familys):\n",
    "        df = train.query(\"store_nbr==@id\").query(\"family=='{}'\".format(family))\n",
    "        axes[i, j].plot(df[\"date\"], df[\"sales\"])\n",
    "        axes[i, j].set_title(family + \"store_nbr={}\".format(id))"
   ]
  },
  {
   "cell_type": "code",
   "execution_count": null,
   "id": "ad20ff2e",
   "metadata": {},
   "outputs": [],
   "source": []
  }
 ],
 "metadata": {
  "hide_input": false,
  "kernelspec": {
   "display_name": "Python 3 (ipykernel)",
   "language": "python",
   "name": "python3"
  },
  "language_info": {
   "codemirror_mode": {
    "name": "ipython",
    "version": 3
   },
   "file_extension": ".py",
   "mimetype": "text/x-python",
   "name": "python",
   "nbconvert_exporter": "python",
   "pygments_lexer": "ipython3",
   "version": "3.10.6"
  },
  "toc": {
   "base_numbering": 1,
   "nav_menu": {},
   "number_sections": true,
   "sideBar": true,
   "skip_h1_title": false,
   "title_cell": "Table of Contents",
   "title_sidebar": "Contents",
   "toc_cell": false,
   "toc_position": {
    "height": "calc(100% - 180px)",
    "left": "10px",
    "top": "150px",
    "width": "209.667px"
   },
   "toc_section_display": true,
   "toc_window_display": false
  },
  "varInspector": {
   "cols": {
    "lenName": 16,
    "lenType": 16,
    "lenVar": 40
   },
   "kernels_config": {
    "python": {
     "delete_cmd_postfix": "",
     "delete_cmd_prefix": "del ",
     "library": "var_list.py",
     "varRefreshCmd": "print(var_dic_list())"
    },
    "r": {
     "delete_cmd_postfix": ") ",
     "delete_cmd_prefix": "rm(",
     "library": "var_list.r",
     "varRefreshCmd": "cat(var_dic_list()) "
    }
   },
   "position": {
    "height": "263.854px",
    "left": "-99px",
    "right": "20px",
    "top": "251px",
    "width": "350px"
   },
   "types_to_exclude": [
    "module",
    "function",
    "builtin_function_or_method",
    "instance",
    "_Feature"
   ],
   "window_display": false
  }
 },
 "nbformat": 4,
 "nbformat_minor": 5
}
